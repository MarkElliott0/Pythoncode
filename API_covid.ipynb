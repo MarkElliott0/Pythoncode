{
  "nbformat": 4,
  "nbformat_minor": 0,
  "metadata": {
    "colab": {
      "name": "API_covid",
      "provenance": [],
      "authorship_tag": "ABX9TyM7kxXZKR6M0dou2NQAMWOU"
    },
    "kernelspec": {
      "name": "python3",
      "display_name": "Python 3"
    },
    "language_info": {
      "name": "python"
    }
  },
  "cells": [
    {
      "cell_type": "code",
      "metadata": {
        "colab": {
          "base_uri": "https://localhost:8080/"
        },
        "id": "i8L2OWmvXfTx",
        "outputId": "72933071-0113-4407-c5f9-85fd3aadeb3a"
      },
      "source": [
        "### Code from https://coronavirus.data.gov.uk/ \n",
        "!pip install uk-covid19"
      ],
      "execution_count": null,
      "outputs": [
        {
          "output_type": "stream",
          "name": "stdout",
          "text": [
            "Collecting uk-covid19\n",
            "  Downloading uk_covid19-1.2.2-py3-none-any.whl (10 kB)\n",
            "Requirement already satisfied: certifi in /usr/local/lib/python3.7/dist-packages (from uk-covid19) (2021.5.30)\n",
            "Requirement already satisfied: requests in /usr/local/lib/python3.7/dist-packages (from uk-covid19) (2.23.0)\n",
            "Requirement already satisfied: chardet<4,>=3.0.2 in /usr/local/lib/python3.7/dist-packages (from requests->uk-covid19) (3.0.4)\n",
            "Requirement already satisfied: idna<3,>=2.5 in /usr/local/lib/python3.7/dist-packages (from requests->uk-covid19) (2.10)\n",
            "Requirement already satisfied: urllib3!=1.25.0,!=1.25.1,<1.26,>=1.21.1 in /usr/local/lib/python3.7/dist-packages (from requests->uk-covid19) (1.24.3)\n",
            "Installing collected packages: uk-covid19\n",
            "Successfully installed uk-covid19-1.2.2\n"
          ]
        }
      ]
    },
    {
      "cell_type": "code",
      "metadata": {
        "colab": {
          "base_uri": "https://localhost:8080/"
        },
        "id": "NhNR_6KavOgW",
        "outputId": "eacc34cd-14b8-490e-e998-e92778103c9f"
      },
      "source": [
        "from uk_covid19 import Cov19API\n",
        "\n",
        "cases_and_deaths = {\n",
        "    \"date\": \"date\",\n",
        "    \"areaName\": \"areaName\",\n",
        "    \"areaCode\": \"areaCode\",\n",
        "    \"newCasesByPublishDate\": \"newCasesByPublishDate\",\n",
        "    \"cumCasesByPublishDate\": \"cumCasesByPublishDate\",\n",
        "    \"newDeaths28DaysByDeathDate\": \"newDeaths28DaysByDeathDate\",\n",
        "    \"cumDeaths28DaysByDeathDate\": \"cumDeaths28DaysByDeathDate\"\n",
        "}\n",
        "\n",
        "region_only = [\n",
        "    'areaType=region'\n",
        "]\n",
        "\n",
        "# Instantiating the API object\n",
        "api = Cov19API(filters=region_only, structure=cases_and_deaths)\n",
        "\n",
        "# Request the API timestamp\n",
        "api_timestamp = api.last_update\n",
        "\n",
        "print(api_timestamp)"
      ],
      "execution_count": null,
      "outputs": [
        {
          "output_type": "stream",
          "name": "stdout",
          "text": [
            "2021-09-22T15:00:06.000000Z\n"
          ]
        }
      ]
    },
    {
      "cell_type": "code",
      "metadata": {
        "colab": {
          "base_uri": "https://localhost:8080/"
        },
        "id": "LeuMBfyYv3O6",
        "outputId": "87370f05-d0f7-4b97-dd8c-de183cea5736"
      },
      "source": [
        "from uk_covid19 import Cov19API\n",
        "\n",
        "\n",
        "release_timestamp = Cov19API.get_release_timestamp()\n",
        "\n",
        "print(release_timestamp)"
      ],
      "execution_count": null,
      "outputs": [
        {
          "output_type": "stream",
          "name": "stdout",
          "text": [
            "2021-09-22T15:00:06.264610Z\n"
          ]
        }
      ]
    },
    {
      "cell_type": "code",
      "metadata": {
        "colab": {
          "base_uri": "https://localhost:8080/"
        },
        "id": "8eBEBsZJwSjp",
        "outputId": "8cf6bf8a-7bd9-4c5d-de42-e5574c6e673e"
      },
      "source": [
        "from uk_covid19 import Cov19API\n",
        "\n",
        "ltla_level = [\n",
        "    \"areaType=ltla\"\n",
        "]\n",
        "\n",
        "cases_ltla = {\n",
        "    \"Area name\":\"areaName\",\n",
        "    \"Area code\":\"areaCode\", \n",
        "    \"Area type\":\"areaType\", \n",
        "    \"Specimen date\":\"date\", \n",
        "    \"Daily lab-confirmed cases\":\"newCasesBySpecimenDate\", \n",
        "    \"Cumulative lab-confirmed cases\":\"cumCasesBySpecimenDate\", \n",
        "    \"Cumulative lab-confirmed cases rate\":\"cumCasesBySpecimenDateRate\"\n",
        "}\n",
        "\n",
        "api = Cov19API(\n",
        "    filters=ltla_level,\n",
        "    structure=cases_ltla\n",
        ")\n",
        "\n",
        "df = api.get_dataframe()\n",
        "\n",
        "print(df.head())\n",
        "\n",
        "df.to_csv('ltla_covid_data.csv', index=False)"
      ],
      "execution_count": null,
      "outputs": [
        {
          "output_type": "stream",
          "name": "stdout",
          "text": [
            "    Area name  ... Cumulative lab-confirmed cases rate\n",
            "0  Hartlepool  ...                             16016.2\n",
            "1  Hartlepool  ...                             16001.3\n",
            "2  Hartlepool  ...                             15936.3\n",
            "3  Hartlepool  ...                             15892.6\n",
            "4  Hartlepool  ...                             15866.0\n",
            "\n",
            "[5 rows x 7 columns]\n"
          ]
        }
      ]
    },
    {
      "cell_type": "code",
      "metadata": {
        "id": "rRNOrQVKxRVl"
      },
      "source": [
        "utla_level = [\n",
        "    \"areaType=utla\"\n",
        "]\n",
        "\n",
        "cases_ltla = {\n",
        "    \"Area name\":\"areaName\",\n",
        "    \"Area code\":\"areaCode\", \n",
        "    \"Area type\":\"areaType\", \n",
        "    \"Specimen date\":\"date\", \n",
        "    \"Daily lab-confirmed cases\":\"newCasesBySpecimenDate\", \n",
        "    \"Cumulative lab-confirmed cases\":\"cumCasesBySpecimenDate\", \n",
        "    \"Cumulative lab-confirmed cases rate\":\"cumCasesBySpecimenDateRate\"\n",
        "}\n",
        "\n",
        "api = Cov19API(\n",
        "    filters=utla_level,\n",
        "    structure=cases_ltla\n",
        ")\n",
        "\n",
        "df = api.get_dataframe()\n",
        "\n",
        "print(df.head())\n",
        "\n",
        "df.to_csv('utla_covid_data.csv', index=False)"
      ],
      "execution_count": null,
      "outputs": []
    },
    {
      "cell_type": "code",
      "metadata": {
        "id": "mbjiPJlW0pSk"
      },
      "source": [
        "region_level = [\n",
        "    \"areaType=region\"\n",
        "]\n",
        "\n",
        "cases_ltla = {\n",
        "    \"Area name\":\"areaName\",\n",
        "    \"Area code\":\"areaCode\", \n",
        "    \"Area type\":\"areaType\", \n",
        "    \"Specimen date\":\"date\", \n",
        "    \"Daily lab-confirmed cases\":\"newCasesBySpecimenDate\", \n",
        "    \"Cumulative lab-confirmed cases\":\"cumCasesBySpecimenDate\", \n",
        "    \"Cumulative lab-confirmed cases rate\":\"cumCasesBySpecimenDateRate\"\n",
        "}\n",
        "\n",
        "api = Cov19API(\n",
        "    filters=region_level,\n",
        "    structure=cases_ltla\n",
        ")\n",
        "\n",
        "df = api.get_dataframe()\n",
        "\n",
        "print(df.head())\n",
        "\n",
        "df.to_csv('region_covid_data.csv', index=False)"
      ],
      "execution_count": null,
      "outputs": []
    },
    {
      "cell_type": "code",
      "metadata": {
        "id": "QcKXSptz1CGD"
      },
      "source": [
        "nation_level = [\n",
        "    \"areaType=region\"\n",
        "]\n",
        "\n",
        "cases_ltla = {\n",
        "    \"Area name\":\"areaName\",\n",
        "    \"Area code\":\"areaCode\", \n",
        "    \"Area type\":\"areaType\", \n",
        "    \"Specimen date\":\"date\", \n",
        "    \"Daily lab-confirmed cases\":\"newCasesBySpecimenDate\", \n",
        "    \"Cumulative lab-confirmed cases\":\"cumCasesBySpecimenDate\", \n",
        "    \"Cumulative lab-confirmed cases rate\":\"cumCasesBySpecimenDateRate\"\n",
        "}\n",
        "\n",
        "api = Cov19API(\n",
        "    filters=nation_level,\n",
        "    structure=cases_ltla\n",
        ")\n",
        "\n",
        "df = api.get_dataframe()\n",
        "\n",
        "print(df.head())\n",
        "\n",
        "df.to_csv('nation_covid_data.csv', index=False)"
      ],
      "execution_count": null,
      "outputs": []
    }
  ]
}